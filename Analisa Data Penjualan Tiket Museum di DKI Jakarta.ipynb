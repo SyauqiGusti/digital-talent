{
 "cells": [
  {
   "cell_type": "markdown",
   "metadata": {},
   "source": [
    "# Deskripsi Data"
   ]
  },
  {
   "cell_type": "code",
   "execution_count": 82,
   "metadata": {},
   "outputs": [
    {
     "name": "stdout",
     "output_type": "stream",
     "text": [
      "Berikut ini adalah data penjualan tiket museum yang berada di DKI Jakarta pada tahun 2010-2011.\n",
      "\n",
      "Penjelasan mengenai Variabel pada Dataset ini:\n",
      "\n",
      "tahun : Tahun\n",
      "nama_museum : Nama Museum\n",
      "nilai_penjualan : Nilai Penjualan Tiket (dalam Rp.)\n",
      "\n",
      "sumber: https://data.go.id/dataset/hasil-penjualan-tiket-masuk-museum-menurut-jenis-museum-2010-2011\n"
     ]
    }
   ],
   "source": [
    "fo = open('datatiketmuseum.txt','r')\n",
    "print(fo.read())\n",
    "fo.close()"
   ]
  },
  {
   "cell_type": "code",
   "execution_count": 83,
   "metadata": {
    "collapsed": true
   },
   "outputs": [],
   "source": [
    "import pandas as pd"
   ]
  },
  {
   "cell_type": "code",
   "execution_count": 84,
   "metadata": {
    "collapsed": true
   },
   "outputs": [],
   "source": [
    "data_penjualan = pd.read_csv('jumlahhasilpenjualantiketmasukmuseummenurutjenismuseum20102011.csv', delimiter = ',', encoding = \"utf-8\")"
   ]
  },
  {
   "cell_type": "code",
   "execution_count": 85,
   "metadata": {},
   "outputs": [
    {
     "data": {
      "text/html": [
       "<div>\n",
       "<style>\n",
       "    .dataframe thead tr:only-child th {\n",
       "        text-align: right;\n",
       "    }\n",
       "\n",
       "    .dataframe thead th {\n",
       "        text-align: left;\n",
       "    }\n",
       "\n",
       "    .dataframe tbody tr th {\n",
       "        vertical-align: top;\n",
       "    }\n",
       "</style>\n",
       "<table border=\"1\" class=\"dataframe\">\n",
       "  <thead>\n",
       "    <tr style=\"text-align: right;\">\n",
       "      <th></th>\n",
       "      <th>tahun</th>\n",
       "      <th>nama_museum</th>\n",
       "      <th>nilai_penjualan</th>\n",
       "    </tr>\n",
       "  </thead>\n",
       "  <tbody>\n",
       "    <tr>\n",
       "      <th>0</th>\n",
       "      <td>2010</td>\n",
       "      <td>Monumen Nasional</td>\n",
       "      <td>4574622135</td>\n",
       "    </tr>\n",
       "    <tr>\n",
       "      <th>1</th>\n",
       "      <td>2010</td>\n",
       "      <td>Sejarah Jakarta dan Prasasti</td>\n",
       "      <td>586971800</td>\n",
       "    </tr>\n",
       "    <tr>\n",
       "      <th>2</th>\n",
       "      <td>2010</td>\n",
       "      <td>Bahari</td>\n",
       "      <td>7796400</td>\n",
       "    </tr>\n",
       "    <tr>\n",
       "      <th>3</th>\n",
       "      <td>2010</td>\n",
       "      <td>Wayang</td>\n",
       "      <td>288582750</td>\n",
       "    </tr>\n",
       "    <tr>\n",
       "      <th>4</th>\n",
       "      <td>2010</td>\n",
       "      <td>Tekstil</td>\n",
       "      <td>40929750</td>\n",
       "    </tr>\n",
       "    <tr>\n",
       "      <th>5</th>\n",
       "      <td>2010</td>\n",
       "      <td>Seni Rupa dan Keramik</td>\n",
       "      <td>115220000</td>\n",
       "    </tr>\n",
       "    <tr>\n",
       "      <th>6</th>\n",
       "      <td>2010</td>\n",
       "      <td>Joang'45 dan M.H Thamrin</td>\n",
       "      <td>17552650</td>\n",
       "    </tr>\n",
       "    <tr>\n",
       "      <th>7</th>\n",
       "      <td>2010</td>\n",
       "      <td>Taman Arkeologi Pulau Onrust</td>\n",
       "      <td>25558500</td>\n",
       "    </tr>\n",
       "    <tr>\n",
       "      <th>8</th>\n",
       "      <td>2011</td>\n",
       "      <td>Monumen Nasional</td>\n",
       "      <td>11371147500</td>\n",
       "    </tr>\n",
       "    <tr>\n",
       "      <th>9</th>\n",
       "      <td>2011</td>\n",
       "      <td>Sejarah Jakarta dan Prasasti</td>\n",
       "      <td>874080000</td>\n",
       "    </tr>\n",
       "    <tr>\n",
       "      <th>10</th>\n",
       "      <td>2011</td>\n",
       "      <td>Bahari</td>\n",
       "      <td>48152000</td>\n",
       "    </tr>\n",
       "    <tr>\n",
       "      <th>11</th>\n",
       "      <td>2011</td>\n",
       "      <td>Wayang</td>\n",
       "      <td>404978000</td>\n",
       "    </tr>\n",
       "    <tr>\n",
       "      <th>12</th>\n",
       "      <td>2011</td>\n",
       "      <td>Tekstil</td>\n",
       "      <td>106970000</td>\n",
       "    </tr>\n",
       "    <tr>\n",
       "      <th>13</th>\n",
       "      <td>2011</td>\n",
       "      <td>Seni Rupa dan Keramik</td>\n",
       "      <td>71932000</td>\n",
       "    </tr>\n",
       "    <tr>\n",
       "      <th>14</th>\n",
       "      <td>2011</td>\n",
       "      <td>Joang'45 dan M.H Thamrin</td>\n",
       "      <td>36740000</td>\n",
       "    </tr>\n",
       "    <tr>\n",
       "      <th>15</th>\n",
       "      <td>2011</td>\n",
       "      <td>Taman Arkeologi Pulau Onrust</td>\n",
       "      <td>31192000</td>\n",
       "    </tr>\n",
       "  </tbody>\n",
       "</table>\n",
       "</div>"
      ],
      "text/plain": [
       "    tahun                   nama_museum  nilai_penjualan\n",
       "0    2010              Monumen Nasional       4574622135\n",
       "1    2010  Sejarah Jakarta dan Prasasti        586971800\n",
       "2    2010                        Bahari          7796400\n",
       "3    2010                        Wayang        288582750\n",
       "4    2010                       Tekstil         40929750\n",
       "5    2010         Seni Rupa dan Keramik        115220000\n",
       "6    2010      Joang'45 dan M.H Thamrin         17552650\n",
       "7    2010  Taman Arkeologi Pulau Onrust         25558500\n",
       "8    2011              Monumen Nasional      11371147500\n",
       "9    2011  Sejarah Jakarta dan Prasasti        874080000\n",
       "10   2011                        Bahari         48152000\n",
       "11   2011                        Wayang        404978000\n",
       "12   2011                       Tekstil        106970000\n",
       "13   2011         Seni Rupa dan Keramik         71932000\n",
       "14   2011      Joang'45 dan M.H Thamrin         36740000\n",
       "15   2011  Taman Arkeologi Pulau Onrust         31192000"
      ]
     },
     "execution_count": 85,
     "metadata": {},
     "output_type": "execute_result"
    }
   ],
   "source": [
    "data_penjualan"
   ]
  },
  {
   "cell_type": "code",
   "execution_count": 86,
   "metadata": {},
   "outputs": [
    {
     "name": "stdout",
     "output_type": "stream",
     "text": [
      "Banyak Museum: 16\n"
     ]
    }
   ],
   "source": [
    "a= data_penjualan.nama_museum.count()\n",
    "print('Banyak Museum:', a)"
   ]
  },
  {
   "cell_type": "code",
   "execution_count": 87,
   "metadata": {},
   "outputs": [
    {
     "data": {
      "text/html": [
       "<div>\n",
       "<style>\n",
       "    .dataframe thead tr:only-child th {\n",
       "        text-align: right;\n",
       "    }\n",
       "\n",
       "    .dataframe thead th {\n",
       "        text-align: left;\n",
       "    }\n",
       "\n",
       "    .dataframe tbody tr th {\n",
       "        vertical-align: top;\n",
       "    }\n",
       "</style>\n",
       "<table border=\"1\" class=\"dataframe\">\n",
       "  <thead>\n",
       "    <tr style=\"text-align: right;\">\n",
       "      <th></th>\n",
       "      <th>tahun</th>\n",
       "    </tr>\n",
       "    <tr>\n",
       "      <th>nilai_penjualan</th>\n",
       "      <th></th>\n",
       "    </tr>\n",
       "  </thead>\n",
       "  <tbody>\n",
       "    <tr>\n",
       "      <th>7796400</th>\n",
       "      <td>2010</td>\n",
       "    </tr>\n",
       "    <tr>\n",
       "      <th>17552650</th>\n",
       "      <td>2010</td>\n",
       "    </tr>\n",
       "    <tr>\n",
       "      <th>25558500</th>\n",
       "      <td>2010</td>\n",
       "    </tr>\n",
       "    <tr>\n",
       "      <th>31192000</th>\n",
       "      <td>2011</td>\n",
       "    </tr>\n",
       "    <tr>\n",
       "      <th>36740000</th>\n",
       "      <td>2011</td>\n",
       "    </tr>\n",
       "    <tr>\n",
       "      <th>40929750</th>\n",
       "      <td>2010</td>\n",
       "    </tr>\n",
       "    <tr>\n",
       "      <th>48152000</th>\n",
       "      <td>2011</td>\n",
       "    </tr>\n",
       "    <tr>\n",
       "      <th>71932000</th>\n",
       "      <td>2011</td>\n",
       "    </tr>\n",
       "    <tr>\n",
       "      <th>106970000</th>\n",
       "      <td>2011</td>\n",
       "    </tr>\n",
       "    <tr>\n",
       "      <th>115220000</th>\n",
       "      <td>2010</td>\n",
       "    </tr>\n",
       "    <tr>\n",
       "      <th>288582750</th>\n",
       "      <td>2010</td>\n",
       "    </tr>\n",
       "    <tr>\n",
       "      <th>404978000</th>\n",
       "      <td>2011</td>\n",
       "    </tr>\n",
       "    <tr>\n",
       "      <th>586971800</th>\n",
       "      <td>2010</td>\n",
       "    </tr>\n",
       "    <tr>\n",
       "      <th>874080000</th>\n",
       "      <td>2011</td>\n",
       "    </tr>\n",
       "    <tr>\n",
       "      <th>4574622135</th>\n",
       "      <td>2010</td>\n",
       "    </tr>\n",
       "    <tr>\n",
       "      <th>11371147500</th>\n",
       "      <td>2011</td>\n",
       "    </tr>\n",
       "  </tbody>\n",
       "</table>\n",
       "</div>"
      ],
      "text/plain": [
       "                 tahun\n",
       "nilai_penjualan       \n",
       "7796400           2010\n",
       "17552650          2010\n",
       "25558500          2010\n",
       "31192000          2011\n",
       "36740000          2011\n",
       "40929750          2010\n",
       "48152000          2011\n",
       "71932000          2011\n",
       "106970000         2011\n",
       "115220000         2010\n",
       "288582750         2010\n",
       "404978000         2011\n",
       "586971800         2010\n",
       "874080000         2011\n",
       "4574622135        2010\n",
       "11371147500       2011"
      ]
     },
     "execution_count": 87,
     "metadata": {},
     "output_type": "execute_result"
    }
   ],
   "source": [
    "data_penjualan.groupby('nilai_penjualan').mean()"
   ]
  },
  {
   "cell_type": "code",
   "execution_count": 88,
   "metadata": {},
   "outputs": [
    {
     "data": {
      "text/html": [
       "<div>\n",
       "<style>\n",
       "    .dataframe thead tr:only-child th {\n",
       "        text-align: right;\n",
       "    }\n",
       "\n",
       "    .dataframe thead th {\n",
       "        text-align: left;\n",
       "    }\n",
       "\n",
       "    .dataframe tbody tr th {\n",
       "        vertical-align: top;\n",
       "    }\n",
       "</style>\n",
       "<table border=\"1\" class=\"dataframe\">\n",
       "  <thead>\n",
       "    <tr style=\"text-align: right;\">\n",
       "      <th></th>\n",
       "      <th>tahun</th>\n",
       "      <th>nama_museum</th>\n",
       "      <th>nilai_penjualan</th>\n",
       "    </tr>\n",
       "  </thead>\n",
       "  <tbody>\n",
       "    <tr>\n",
       "      <th>0</th>\n",
       "      <td>2010</td>\n",
       "      <td>Monumen Nasional</td>\n",
       "      <td>4574622135</td>\n",
       "    </tr>\n",
       "    <tr>\n",
       "      <th>8</th>\n",
       "      <td>2011</td>\n",
       "      <td>Monumen Nasional</td>\n",
       "      <td>11371147500</td>\n",
       "    </tr>\n",
       "  </tbody>\n",
       "</table>\n",
       "</div>"
      ],
      "text/plain": [
       "   tahun       nama_museum  nilai_penjualan\n",
       "0   2010  Monumen Nasional       4574622135\n",
       "8   2011  Monumen Nasional      11371147500"
      ]
     },
     "execution_count": 88,
     "metadata": {},
     "output_type": "execute_result"
    }
   ],
   "source": [
    "data_penjualan[data_penjualan['nama_museum']=='Monumen Nasional']"
   ]
  },
  {
   "cell_type": "markdown",
   "metadata": {},
   "source": [
    "# Statistik Tentang Data"
   ]
  },
  {
   "cell_type": "code",
   "execution_count": 89,
   "metadata": {},
   "outputs": [
    {
     "name": "stdout",
     "output_type": "stream",
     "text": [
      "Sum Penjualan Tiket: 18602425485\n",
      "Min Penjualan Tiket: 7796400\n",
      "Max Penjualan Tiket: 11371147500\n",
      "Mean Penjualan Tiket: 1162651592.8125\n",
      "Median Penjualan Tiket: 89451000.0\n"
     ]
    }
   ],
   "source": [
    "s = data_penjualan.nilai_penjualan.sum()\n",
    "mi = data_penjualan.nilai_penjualan.min()\n",
    "ma = data_penjualan.nilai_penjualan.max()\n",
    "me = data_penjualan.nilai_penjualan.mean()\n",
    "md = data_penjualan.nilai_penjualan.median()\n",
    "\n",
    "print('Sum Penjualan Tiket:',s)\n",
    "print('Min Penjualan Tiket:',mi)\n",
    "print('Max Penjualan Tiket:',ma)\n",
    "print('Mean Penjualan Tiket:',me)\n",
    "print('Median Penjualan Tiket:',md)\n"
   ]
  },
  {
   "cell_type": "markdown",
   "metadata": {},
   "source": [
    "# Visualisasi Sederhana"
   ]
  },
  {
   "cell_type": "code",
   "execution_count": 90,
   "metadata": {},
   "outputs": [
    {
     "data": {
      "text/plain": [
       "Text(0,0.5,'nilai_penjualan')"
      ]
     },
     "execution_count": 90,
     "metadata": {},
     "output_type": "execute_result"
    },
    {
     "data": {
      "image/png": "[encoded data removed]",
      "text/plain": [
       "<matplotlib.figure.Figure at 0x24b0f405d30>"
      ]
     },
     "metadata": {},
     "output_type": "display_data"
    }
   ],
   "source": [
    "%matplotlib inline\n",
    "ax = data_penjualan.groupby('nama_museum').mean()['nilai_penjualan']\n",
    "ax = ax.plot(kind='pie', title =\"Jumlah Penjualan Tiket Setiap Museum\", figsize=(8,8), legend=True, fontsize=12)\n",
    "ax.set_xlabel(\"nama_museum\", fontsize=12)\n",
    "ax.set_ylabel(\"nilai_penjualan\", fontsize=12)"
   ]
  },
  {
   "cell_type": "markdown",
   "metadata": {},
   "source": [
    "# Narasi Analisis"
   ]
  },
  {
   "cell_type": "code",
   "execution_count": 92,
   "metadata": {},
   "outputs": [
    {
     "name": "stdout",
     "output_type": "stream",
     "text": [
      "Dari data diatas dapat diambil kesimpulan bahwa, Monumen nasional menjadi museum dengan penjualan tiket terbanyak sejak tahun 2010 hingga 2011. Monumen Nasional mampu mendapatkan total Rp 11.371.147.500 pada tahun 2011, yang merupakan penjualan terbanyak diantara museum lain sejak tahun 2010 hingga 2011.\n",
      "Sedangkan museum Bahari menjadi museum dengan jumlah penjualan tiket terendah, dimana pada tahun 2010 museum Bahari hanya mampu menjual tiket sebanyak Rp 7.796.400, yang terendah sejak 2010 hingga 2011.\n"
     ]
    }
   ],
   "source": [
    "fo = open('narasi.txt','r')\n",
    "print(fo.read())\n",
    "fo.close()"
   ]
  }
 ],
 "metadata": {
  "kernelspec": {
   "display_name": "Python 3",
   "language": "python",
   "name": "python3"
  },
  "language_info": {
   "codemirror_mode": {
    "name": "ipython",
    "version": 3
   },
   "file_extension": ".py",
   "mimetype": "text/x-python",
   "name": "python",
   "nbconvert_exporter": "python",
   "pygments_lexer": "ipython3",
   "version": "3.6.3"
  }
 },
 "nbformat": 4,
 "nbformat_minor": 2
}
