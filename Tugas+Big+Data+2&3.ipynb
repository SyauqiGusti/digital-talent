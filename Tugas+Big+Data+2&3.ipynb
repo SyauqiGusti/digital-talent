{
 "cells": [
  {
   "cell_type": "markdown",
   "metadata": {},
   "source": [
    "# Data Nilai"
   ]
  },
  {
   "cell_type": "code",
   "execution_count": 55,
   "metadata": {},
   "outputs": [
    {
     "name": "stdout",
     "output_type": "stream",
     "text": [
      "[2, 19, 68, 58, 49, 58, 60, 14, 13, 8, 85, 15, 2, 54, 78, 96, 41, 69, 19, 6, 21, 59, 92, 17, 2, 32, 93, 13, 13, 22, 21, 62, 33, 20, 39, 90, 38, 57, 95, 72, 4, 62, 80, 74, 59, 44, 1, 77, 36, 8, 46, 2, 67, 68, 79, 36, 70, 88, 28, 44, 88, 5, 16, 82, 49, 95, 59, 15, 45, 33, 18, 59, 77, 65, 97, 91, 53, 99, 57, 35, 54, 45, 70, 54, 99, 34, 97, 30, 29, 86, 18, 96, 3, 49, 1, 59, 21, 60, 79, 4, 12, 55, 16, 93, 68, 99, 24, 91, 7, 16, 14, 56, 89, 82, 5, 7, 95, 86, 60, 94, 11, 64, 50, 25, 21, 38, 35, 42, 73, 37, 58, 25, 10, 43, 95, 3, 98, 55, 18, 35, 59, 52, 87, 63, 72, 18, 52, 45, 55, 50, 76, 93, 32, 42, 77, 13, 11, 68, 71, 6, 4, 54, 70, 18, 94, 59, 27, 85, 47, 7, 76, 84, 82, 64, 59, 40, 12, 95, 6, 37, 8, 16, 15, 99, 15, 96, 8, 13, 99, 2, 46, 61, 23, 86, 20, 49, 32, 15, 42, 3, 85, 33, 81, 22, 5, 90, 1, 54, 84, 25, 60, 32, 23, 32, 62, 66, 78, 99, 16, 28, 68, 98, 4, 89, 60, 74, 97, 74, 95, 23, 90, 83, 32, 66, 99, 12, 33, 89, 51, 84, 17, 70, 22, 26, 11, 57, 7, 54, 59, 88]\n"
     ]
    }
   ],
   "source": [
    "import random\n",
    "nilaitugas=[]\n",
    "\n",
    "for i in range(250):\n",
    "    nilaitugas.append(random.randrange(1,100,1))\n",
    "    \n",
    "print(nilaitugas)"
   ]
  },
  {
   "cell_type": "markdown",
   "metadata": {
    "collapsed": true
   },
   "source": [
    "# Nilai Ganjil"
   ]
  },
  {
   "cell_type": "code",
   "execution_count": 57,
   "metadata": {},
   "outputs": [
    {
     "name": "stdout",
     "output_type": "stream",
     "text": [
      "Nilai ganjil:\n",
      "[19, 49, 13, 85, 15, 41, 69, 19, 21, 59, 17, 93, 13, 13, 21, 33, 39, 57, 95, 59, 1, 77, 67, 79, 5, 49, 95, 59, 15, 45, 33, 59, 77, 65, 97, 91, 53, 99, 57, 35, 45, 99, 97, 29, 3, 49, 1, 59, 21, 79, 55, 93, 99, 91, 7, 89, 5, 7, 95, 11, 25, 21, 35, 73, 37, 25, 43, 95, 3, 55, 35, 59, 87, 63, 45, 55, 93, 77, 13, 11, 71, 59, 27, 85, 47, 7, 59, 95, 37, 15, 99, 15, 13, 99, 61, 23, 49, 15, 3, 85, 33, 81, 5, 1, 25, 23, 99, 89, 97, 95, 23, 83, 99, 33, 89, 51, 17, 11, 57, 7, 59]\n"
     ]
    }
   ],
   "source": [
    "ganjil=[]\n",
    "\n",
    "for i in nilaitugas:\n",
    "    if i% 2==1:\n",
    "        ganjil.append(i) \n",
    "        \n",
    "print ('Nilai ganjil:')\n",
    "print (ganjil)"
   ]
  },
  {
   "cell_type": "markdown",
   "metadata": {
    "collapsed": true
   },
   "source": [
    "# Nilai yang lebih dari 70"
   ]
  },
  {
   "cell_type": "code",
   "execution_count": 82,
   "metadata": {},
   "outputs": [
    {
     "name": "stdout",
     "output_type": "stream",
     "text": [
      "Nilai yang lebih dari 70 sebanyak 70\n"
     ]
    }
   ],
   "source": [
    "lebih=[]\n",
    "\n",
    "for i in nilaitugas:\n",
    "    if i>70:\n",
    "        lebih.append(i)\n",
    "        \n",
    "print('Nilai yang lebih dari 70 sebanyak', len(lebih))"
   ]
  },
  {
   "cell_type": "markdown",
   "metadata": {},
   "source": [
    "# Standar Deviasi"
   ]
  },
  {
   "cell_type": "code",
   "execution_count": 65,
   "metadata": {},
   "outputs": [
    {
     "name": "stdout",
     "output_type": "stream",
     "text": [
      "Standard Deviasi :  30.591943449478055\n"
     ]
    }
   ],
   "source": [
    "a = 0\n",
    "j = len(nilaitugas)\n",
    "for n in nilaitugas:\n",
    "    a = a + n\n",
    "rata = a / j\n",
    "\n",
    "b = 0\n",
    "for n in nilaitugas:\n",
    "    c = n - rata\n",
    "    pangkat = c**2\n",
    "    b = b + pangkat\n",
    "    \n",
    "std_dev = (b / (j-1))**(0.5)\n",
    "\n",
    "\n",
    "print(\"Standard Deviasi : \",std_dev)"
   ]
  },
  {
   "cell_type": "markdown",
   "metadata": {
    "collapsed": true
   },
   "source": [
    "# Maksimum"
   ]
  },
  {
   "cell_type": "code",
   "execution_count": 80,
   "metadata": {},
   "outputs": [
    {
     "name": "stdout",
     "output_type": "stream",
     "text": [
      "Nilai Maksimum: 99\n"
     ]
    }
   ],
   "source": [
    "maks= nilaitugas[0]\n",
    "\n",
    "for i in nilaitugas:\n",
    "    if i > maks:\n",
    "        maks = i\n",
    "        \n",
    "print(\"Nilai Maksimum:\",maks)"
   ]
  },
  {
   "cell_type": "markdown",
   "metadata": {},
   "source": [
    "# Minimum"
   ]
  },
  {
   "cell_type": "code",
   "execution_count": 81,
   "metadata": {},
   "outputs": [
    {
     "name": "stdout",
     "output_type": "stream",
     "text": [
      "Nilai Minimum :  1\n"
     ]
    }
   ],
   "source": [
    "mins = nilaitugas[0]\n",
    "for i in nilaitugas:\n",
    "    if i < mins:\n",
    "        mins = i\n",
    "\n",
    "print(\"Nilai Minimum : \", mins)"
   ]
  },
  {
   "cell_type": "markdown",
   "metadata": {},
   "source": [
    "# Modus"
   ]
  },
  {
   "cell_type": "code",
   "execution_count": 89,
   "metadata": {},
   "outputs": [
    {
     "name": "stdout",
     "output_type": "stream",
     "text": [
      "Nilai Modus: 59\n"
     ]
    }
   ],
   "source": [
    "x= {}\n",
    "modus = \" \"\n",
    "for i in nilaitugas:\n",
    "    if i in x:\n",
    "        x[i]+= 1\n",
    "    else:\n",
    "        x[i] = 1\n",
    "        \n",
    "maks =  0 \n",
    "for i in x:\n",
    "    if x[i]> maks:\n",
    "        maks = x[i]\n",
    "        modus = i\n",
    "\n",
    "print ('Nilai Modus:', modus)"
   ]
  },
  {
   "cell_type": "markdown",
   "metadata": {},
   "source": [
    "# Word Count"
   ]
  },
  {
   "cell_type": "code",
   "execution_count": 107,
   "metadata": {},
   "outputs": [
    {
     "name": "stdout",
     "output_type": "stream",
     "text": [
      "Barcelona berhasil merebut posisi puncak klasemen La Liga Spanyol seusai menang 4-2 atas Sevilla pada pertandingan pekan kesembilan di Stadion Camp Nou, Sabtu (20/10/2018) atau Minggu dini hari WIB. Barcelona membuka keunggulan pada menit ke-2 melalui gol yang dicetak oleh Philippe Coutinho. Lionel Messi menggandakan keunggulan Barcelona, 10 menit berselang.  Namun, nahas bagi Barcelona, karena Messi harus ditarik keluar pada menit ke-26 setelah mengalami cedera. Tanpa Messi, skor 2-0 bertahan hingga babak pertama berakhir.\n",
      "\n",
      "Word count dari paragraf diatas adalah:\n",
      "barcelona : 4\n",
      "berhasil : 1\n",
      "merebut : 1\n",
      "posisi : 1\n",
      "puncak : 1\n",
      "klasemen : 1\n",
      "la : 1\n",
      "liga : 1\n",
      "spanyol : 1\n",
      "seusai : 1\n",
      "menang : 1\n",
      "4 : 1\n",
      "2 : 3\n",
      "atas : 1\n",
      "sevilla : 1\n",
      "pada : 3\n",
      "pertandingan : 1\n",
      "pekan : 1\n",
      "kesembilan : 1\n",
      "di : 1\n",
      "stadion : 1\n",
      "camp : 1\n",
      "nou : 1\n",
      "sabtu : 1\n",
      "20 : 1\n",
      "10 : 2\n",
      "2018 : 1\n",
      "atau : 1\n",
      "minggu : 1\n",
      "dini : 1\n",
      "hari : 1\n",
      "wib : 1\n",
      "barcelona : 4\n",
      "membuka : 1\n",
      "keunggulan : 2\n",
      "pada : 3\n",
      "menit : 3\n",
      "ke : 2\n",
      "2 : 3\n",
      "melalui : 1\n",
      "gol : 1\n",
      "yang : 1\n",
      "dicetak : 1\n",
      "oleh : 1\n",
      "philippe : 1\n",
      "coutinho : 1\n",
      "lionel : 1\n",
      "messi : 3\n",
      "menggandakan : 1\n",
      "keunggulan : 2\n",
      "barcelona : 4\n",
      "10 : 2\n",
      "menit : 3\n",
      "berselang : 1\n",
      "namun : 1\n",
      "nahas : 1\n",
      "bagi : 1\n",
      "barcelona : 4\n",
      "karena : 1\n",
      "messi : 3\n",
      "harus : 1\n",
      "ditarik : 1\n",
      "keluar : 1\n",
      "pada : 3\n",
      "menit : 3\n",
      "ke : 2\n",
      "26 : 1\n",
      "setelah : 1\n",
      "mengalami : 1\n",
      "cedera : 1\n",
      "tanpa : 1\n",
      "messi : 3\n",
      "skor : 1\n",
      "2 : 3\n",
      "0 : 1\n",
      "bertahan : 1\n",
      "hingga : 1\n",
      "babak : 1\n",
      "pertama : 1\n",
      "berakhir : 1\n"
     ]
    }
   ],
   "source": [
    "paragraf = \"Barcelona berhasil merebut posisi puncak klasemen La Liga Spanyol seusai menang 4-2 atas Sevilla pada pertandingan pekan kesembilan di Stadion Camp Nou, Sabtu (20/10/2018) atau Minggu dini hari WIB. Barcelona membuka keunggulan pada menit ke-2 melalui gol yang dicetak oleh Philippe Coutinho. Lionel Messi menggandakan keunggulan Barcelona, 10 menit berselang.  Namun, nahas bagi Barcelona, karena Messi harus ditarik keluar pada menit ke-26 setelah mengalami cedera. Tanpa Messi, skor 2-0 bertahan hingga babak pertama berakhir.\"\n",
    "print(paragraf)\n",
    "\n",
    "#ubah seluruh paragraf\n",
    "paragraf = paragraf.lower()\n",
    "\n",
    "paragraf = paragraf.replace('.',' ')\n",
    "\n",
    "paragraf = paragraf.replace(',', ' ')\n",
    "\n",
    "paragraf = paragraf.replace('/', ' ')\n",
    "\n",
    "paragraf = paragraf.replace('(', ' ')\n",
    "\n",
    "paragraf = paragraf.replace(')',' ')\n",
    "\n",
    "paragraf = paragraf.replace('-',' ')\n",
    "\n",
    "kalimat = paragraf.split()\n",
    "print( )\n",
    "print('Word count dari paragraf diatas adalah:')\n",
    "\n",
    "for kata in kalimat:\n",
    "    jmlh = kalimat.count(kata)\n",
    "    print(kata,\":\", jmlh)"
   ]
  },
  {
   "cell_type": "code",
   "execution_count": null,
   "metadata": {
    "collapsed": true
   },
   "outputs": [],
   "source": []
  }
 ],
 "metadata": {
  "kernelspec": {
   "display_name": "Python 3",
   "language": "python",
   "name": "python3"
  },
  "language_info": {
   "codemirror_mode": {
    "name": "ipython",
    "version": 3
   },
   "file_extension": ".py",
   "mimetype": "text/x-python",
   "name": "python",
   "nbconvert_exporter": "python",
   "pygments_lexer": "ipython3",
   "version": "3.6.3"
  },
  "widgets": {
   "application/vnd.jupyter.widget-state+json": {
    "state": {},
    "version_major": 2,
    "version_minor": 0
   }
  }
 },
 "nbformat": 4,
 "nbformat_minor": 2
}
