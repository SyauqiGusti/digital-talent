{
 "cells": [
  {
   "cell_type": "code",
   "execution_count": 4,
   "metadata": {},
   "outputs": [
    {
     "name": "stdout",
     "output_type": "stream",
     "text": [
      "Syauqi Gusti\n",
      "bmi: 23.437499999999996\n",
      "you are Normal\n"
     ]
    }
   ],
   "source": [
    "Nama = \"Syauqi Gusti\"\n",
    "berat = 60\n",
    "tinggi = 160\n",
    "tinggi_mtr = tinggi/100\n",
    "\n",
    "bmi=berat/(tinggi_mtr**2)\n",
    "print (Nama)\n",
    "print(\"bmi:\", bmi)\n",
    "if bmi<15:\n",
    "    print(\"you are very severely underweight\")\n",
    "elif bmi>=15 and bmi<16:\n",
    "    print(\"you are severely underweight\")\n",
    "elif bmi>=16 and bmi<18.5:\n",
    "    print(\"you are underweight\")\n",
    "elif bmi>=18.5 and bmi<25:\n",
    "    print (\"you are Normal\")\n",
    "elif bmi>=25 and bmi<30:\n",
    "    print (\"you are overweight\")\n",
    "elif bmi>=30 and bmi<35:\n",
    "    print (\"you are moderately obesitas\")\n",
    "elif bmi>=35 and bmi<40:\n",
    "    print (\"you are severely obesitas\")\n",
    "elif bmi>40:\n",
    "    print (\"you are very severely obesitas\")\n",
    "else:\n",
    "    print (\"wrong input\")"
   ]
  },
  {
   "cell_type": "code",
   "execution_count": null,
   "metadata": {
    "collapsed": true
   },
   "outputs": [],
   "source": []
  }
 ],
 "metadata": {
  "kernelspec": {
   "display_name": "Python 3",
   "language": "python",
   "name": "python3"
  },
  "language_info": {
   "codemirror_mode": {
    "name": "ipython",
    "version": 3
   },
   "file_extension": ".py",
   "mimetype": "text/x-python",
   "name": "python",
   "nbconvert_exporter": "python",
   "pygments_lexer": "ipython3",
   "version": "3.6.3"
  }
 },
 "nbformat": 4,
 "nbformat_minor": 2
}
